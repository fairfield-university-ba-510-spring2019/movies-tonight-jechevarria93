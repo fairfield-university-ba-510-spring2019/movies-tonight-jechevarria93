{
 "cells": [
  {
   "cell_type": "markdown",
   "metadata": {},
   "source": [
    "# Movies Tonight Part 3: SQL DML"
   ]
  },
  {
   "cell_type": "code",
   "execution_count": 65,
   "metadata": {},
   "outputs": [
    {
     "name": "stdout",
     "output_type": "stream",
     "text": [
      "The sql extension is already loaded. To reload it, use:\n",
      "  %reload_ext sql\n"
     ]
    },
    {
     "data": {
      "text/plain": [
       "'Connected: @Movies.db'"
      ]
     },
     "execution_count": 65,
     "metadata": {},
     "output_type": "execute_result"
    }
   ],
   "source": [
    "%load_ext sql\n",
    "%sql sqlite:///Movies.db"
   ]
  },
  {
   "cell_type": "markdown",
   "metadata": {},
   "source": [
    "1. **Load the `DATASET.csv` file into the `Movies.db` database.**  \n",
    "    - Import the CSV file to create a new table called `DATASET`. Follow the example [here](http://www.sqlitetutorial.net/sqlite-import-csv/).\n",
    "    - Use a [`PRAGMA table-info` pseudo-query](https://www.sqlite.org/pragma.html#pragma_table_info) to inspect the design of the new table. [How are we going to handle dates](https://www.sqlite.org/datatype3.html)?"
   ]
  },
  {
   "cell_type": "code",
   "execution_count": 63,
   "metadata": {},
   "outputs": [
    {
     "ename": "SyntaxError",
     "evalue": "invalid syntax (<ipython-input-63-1f6482a73065>, line 1)",
     "output_type": "error",
     "traceback": [
      "\u001b[0;36m  File \u001b[0;32m\"<ipython-input-63-1f6482a73065>\"\u001b[0;36m, line \u001b[0;32m1\u001b[0m\n\u001b[0;31m    YOUR CODE HERE\u001b[0m\n\u001b[0m            ^\u001b[0m\n\u001b[0;31mSyntaxError\u001b[0m\u001b[0;31m:\u001b[0m invalid syntax\n"
     ]
    }
   ],
   "source": [
    "YOUR CODE HERE"
   ]
  },
  {
   "cell_type": "markdown",
   "metadata": {},
   "source": [
    "2. **Populate the tables with data.**  \n",
    "\n",
    "    - Use `INSERT ... SELECT ...` queries to extract data from `DATASET` for each table of your other tables. \n",
    "    - Start with the strong entities before moving on to the weak ones. Be sure to always select distinct     values. \n",
    "    - Foreign Keys get special treatment. You will have to use JOINs to pick up the PKs from the other side of the relationships. (As in Part 1, use the fact that movie names, theater names, and people names are always unique in our source data. That way you can use then for the JOIN columns. \n",
    "    - If you have to start over, then rerun your DDL queries from Part 2. "
   ]
  },
  {
   "cell_type": "code",
   "execution_count": 66,
   "metadata": {},
   "outputs": [
    {
     "name": "stdout",
     "output_type": "stream",
     "text": [
      " * sqlite:///Movies.db\n",
      "   sqlite:///Movies.db;\n",
      "23 rows affected.\n"
     ]
    },
    {
     "data": {
      "text/plain": [
       "[]"
      ]
     },
     "execution_count": 66,
     "metadata": {},
     "output_type": "execute_result"
    }
   ],
   "source": [
    "%%sql\n",
    "INSERT INTO MOVIES (MTitle, Rating)\n",
    "SELECT DISTINCT MTitle, Rating\n",
    "FROM DATASET;"
   ]
  },
  {
   "cell_type": "code",
   "execution_count": 67,
   "metadata": {},
   "outputs": [
    {
     "name": "stdout",
     "output_type": "stream",
     "text": [
      " * sqlite:///Movies.db\n",
      "   sqlite:///Movies.db;\n",
      "9 rows affected.\n"
     ]
    },
    {
     "data": {
      "text/plain": [
       "[]"
      ]
     },
     "execution_count": 67,
     "metadata": {},
     "output_type": "execute_result"
    }
   ],
   "source": [
    "%%sql\n",
    "INSERT INTO THEATERS (TName, Phone, Location)\n",
    "SELECT DISTINCT TName, Phone , Location\n",
    "FROM DATASET;"
   ]
  },
  {
   "cell_type": "markdown",
   "metadata": {},
   "source": [
    "3. **Check your work.**  \n",
    "There are 9 theaters, 23 movies, 152 artists, 131 shows, and 161 credits."
   ]
  },
  {
   "cell_type": "code",
   "execution_count": 122,
   "metadata": {},
   "outputs": [
    {
     "name": "stdout",
     "output_type": "stream",
     "text": [
      " * sqlite:///Movies.db\n",
      "   sqlite:///Movies.db;\n",
      "23 rows affected.\n"
     ]
    },
    {
     "data": {
      "text/plain": [
       "[]"
      ]
     },
     "execution_count": 122,
     "metadata": {},
     "output_type": "execute_result"
    }
   ],
   "source": [
    "%%sql\n",
    "INSERT INTO MOVIES (MTitle, Rating)\n",
    "SELECT DISTINCT MTitle, Rating\n",
    "FROM DATASET;"
   ]
  },
  {
   "cell_type": "code",
   "execution_count": 125,
   "metadata": {},
   "outputs": [
    {
     "name": "stdout",
     "output_type": "stream",
     "text": [
      " * sqlite:///Movies.db\n",
      "   sqlite:///Movies.db;\n",
      "9 rows affected.\n"
     ]
    },
    {
     "data": {
      "text/plain": [
       "[]"
      ]
     },
     "execution_count": 125,
     "metadata": {},
     "output_type": "execute_result"
    }
   ],
   "source": [
    "%%sql\n",
    "INSERT INTO THEATERS (TName, Phone, Location)\n",
    "SELECT DISTINCT TName, Phone, Location\n",
    "FROM DATASET;"
   ]
  },
  {
   "cell_type": "code",
   "execution_count": 68,
   "metadata": {},
   "outputs": [
    {
     "name": "stdout",
     "output_type": "stream",
     "text": [
      " * sqlite:///Movies.db\n",
      "   sqlite:///Movies.db;\n",
      "153 rows affected.\n"
     ]
    },
    {
     "data": {
      "text/plain": [
       "[]"
      ]
     },
     "execution_count": 68,
     "metadata": {},
     "output_type": "execute_result"
    }
   ],
   "source": [
    "%%sql\n",
    "INSERT INTO ARTISTS (AName)\n",
    "SELECT DISTINCT CName\n",
    "FROM DATASET;"
   ]
  },
  {
   "cell_type": "code",
   "execution_count": 115,
   "metadata": {},
   "outputs": [
    {
     "name": "stdout",
     "output_type": "stream",
     "text": [
      " * sqlite:///Movies.db\n",
      "   sqlite:///Movies.db;\n",
      "972 rows affected.\n"
     ]
    },
    {
     "data": {
      "text/plain": [
       "[]"
      ]
     },
     "execution_count": 115,
     "metadata": {},
     "output_type": "execute_result"
    }
   ],
   "source": [
    "%%sql\n",
    "INSERT INTO CREDITS (MID, AID, CCode)\n",
    "SELECT DISTINCT MID, AID, CCode\n",
    "FROM DATASET \n",
    "    JOIN MOVIES ON (MOVIES.MTitle=DATASET.MTitle)\n",
    "    JOIN ARTISTS ON (ARTISTS.ANAME=DATASET.CNAME);\n",
    "\n",
    "\n"
   ]
  },
  {
   "cell_type": "code",
   "execution_count": 155,
   "metadata": {},
   "outputs": [
    {
     "name": "stdout",
     "output_type": "stream",
     "text": [
      " * sqlite:///Movies.db\n",
      "   sqlite:///Movies.db;\n",
      "(sqlite3.OperationalError) no such column: STime [SQL: 'INSERT INTO SHOWS (STime,MID, TID)\\nSELECT DISTINCT STime, MID, TID\\nFROM DATASET\\nJOIN MOVIES ON (MOVIES.MTitle=DATASET.MTitle)\\nJOIN THEATERS ON (THEATERS.TName=DATASET.TName)\\n;'] (Background on this error at: http://sqlalche.me/e/e3q8)\n"
     ]
    }
   ],
   "source": [
    "%%sql\n",
    "INSERT INTO SHOWS (STime,MID, TID)\n",
    "SELECT DISTINCT STime, MID, TID\n",
    "FROM DATASET\n",
    "JOIN MOVIES ON (MOVIES.MTitle=DATASET.MTitle)\n",
    "JOIN THEATERS ON (THEATERS.TName=DATASET.TName)\n",
    ";\n"
   ]
  },
  {
   "cell_type": "markdown",
   "metadata": {},
   "source": [
    "4. **Now check the source data.**  \n",
    "There are actually 13 duplicate rows in the original source data! Can you spot them? Write a SQL query that counts how many times each (MTitle, TName, Showtime, CCode, and CName) appears. Which ones appear more than once?"
   ]
  },
  {
   "cell_type": "code",
   "execution_count": 152,
   "metadata": {},
   "outputs": [
    {
     "name": "stdout",
     "output_type": "stream",
     "text": [
      " * sqlite:///Movies.db\n",
      "   sqlite:///Movies.db;\n",
      "Done.\n"
     ]
    },
    {
     "data": {
      "text/html": [
       "<table>\n",
       "    <tr>\n",
       "        <th>MTitle</th>\n",
       "        <th>TName</th>\n",
       "        <th>ShowTime</th>\n",
       "        <th>CCode</th>\n",
       "        <th>CName</th>\n",
       "    </tr>\n",
       "    <tr>\n",
       "        <td>Dear God</td>\n",
       "        <td>SOCAL Canyon Springs Cinema</td>\n",
       "        <td>9:00 PM</td>\n",
       "        <td>A</td>\n",
       "        <td>Greg Kinnear</td>\n",
       "    </tr>\n",
       "    <tr>\n",
       "        <td>Dear God</td>\n",
       "        <td>SOCAL Canyon Springs Cinema</td>\n",
       "        <td>9:00 PM</td>\n",
       "        <td>A</td>\n",
       "        <td>Hector Elizondo</td>\n",
       "    </tr>\n",
       "    <tr>\n",
       "        <td>Dear God</td>\n",
       "        <td>SOCAL Canyon Springs Cinema</td>\n",
       "        <td>9:00 PM</td>\n",
       "        <td>A</td>\n",
       "        <td>Jon Seda</td>\n",
       "    </tr>\n",
       "    <tr>\n",
       "        <td>Dear God</td>\n",
       "        <td>SOCAL Canyon Springs Cinema</td>\n",
       "        <td>9:00 PM</td>\n",
       "        <td>A</td>\n",
       "        <td>Laurie Metcalf</td>\n",
       "    </tr>\n",
       "    <tr>\n",
       "        <td>Dear God</td>\n",
       "        <td>SOCAL Canyon Springs Cinema</td>\n",
       "        <td>9:00 PM</td>\n",
       "        <td>A</td>\n",
       "        <td>Maria Pitillo</td>\n",
       "    </tr>\n",
       "    <tr>\n",
       "        <td>Dear God</td>\n",
       "        <td>SOCAL Canyon Springs Cinema</td>\n",
       "        <td>9:00 PM</td>\n",
       "        <td>A</td>\n",
       "        <td>Roscoe Lee Browne</td>\n",
       "    </tr>\n",
       "    <tr>\n",
       "        <td>Dear God</td>\n",
       "        <td>SOCAL Canyon Springs Cinema</td>\n",
       "        <td>9:00 PM</td>\n",
       "        <td>A</td>\n",
       "        <td>Tim Conway</td>\n",
       "    </tr>\n",
       "    <tr>\n",
       "        <td>Dear God</td>\n",
       "        <td>SOCAL Canyon Springs Cinema</td>\n",
       "        <td>9:00 PM</td>\n",
       "        <td>D</td>\n",
       "        <td>Garry Marshall</td>\n",
       "    </tr>\n",
       "    <tr>\n",
       "        <td>High School High</td>\n",
       "        <td>United Artists Riverside (Galleria) Tyler Mall</td>\n",
       "        <td>9:00 PM</td>\n",
       "        <td>A</td>\n",
       "        <td>Jon Lovitz</td>\n",
       "    </tr>\n",
       "    <tr>\n",
       "        <td>High School High</td>\n",
       "        <td>United Artists Riverside (Galleria) Tyler Mall</td>\n",
       "        <td>9:00 PM</td>\n",
       "        <td>A</td>\n",
       "        <td>Mekhi Phifer</td>\n",
       "    </tr>\n",
       "    <tr>\n",
       "        <td>High School High</td>\n",
       "        <td>United Artists Riverside (Galleria) Tyler Mall</td>\n",
       "        <td>9:00 PM</td>\n",
       "        <td>A</td>\n",
       "        <td>Tia Carrera</td>\n",
       "    </tr>\n",
       "    <tr>\n",
       "        <td>High School High</td>\n",
       "        <td>United Artists Riverside (Galleria) Tyler Mall</td>\n",
       "        <td>9:00 PM</td>\n",
       "        <td>A</td>\n",
       "        <td>and Louise Fletcher</td>\n",
       "    </tr>\n",
       "    <tr>\n",
       "        <td>High School High</td>\n",
       "        <td>United Artists Riverside (Galleria) Tyler Mall</td>\n",
       "        <td>9:00 PM</td>\n",
       "        <td>D</td>\n",
       "        <td>Hart Bochner</td>\n",
       "    </tr>\n",
       "</table>"
      ],
      "text/plain": [
       "[('Dear God', 'SOCAL Canyon Springs Cinema', '9:00 PM', 'A', 'Greg Kinnear'),\n",
       " ('Dear God', 'SOCAL Canyon Springs Cinema', '9:00 PM', 'A', 'Hector Elizondo'),\n",
       " ('Dear God', 'SOCAL Canyon Springs Cinema', '9:00 PM', 'A', 'Jon Seda'),\n",
       " ('Dear God', 'SOCAL Canyon Springs Cinema', '9:00 PM', 'A', 'Laurie Metcalf'),\n",
       " ('Dear God', 'SOCAL Canyon Springs Cinema', '9:00 PM', 'A', 'Maria Pitillo'),\n",
       " ('Dear God', 'SOCAL Canyon Springs Cinema', '9:00 PM', 'A', 'Roscoe Lee Browne'),\n",
       " ('Dear God', 'SOCAL Canyon Springs Cinema', '9:00 PM', 'A', 'Tim Conway'),\n",
       " ('Dear God', 'SOCAL Canyon Springs Cinema', '9:00 PM', 'D', 'Garry Marshall'),\n",
       " ('High School High', 'United Artists Riverside (Galleria) Tyler Mall', '9:00 PM', 'A', 'Jon Lovitz'),\n",
       " ('High School High', 'United Artists Riverside (Galleria) Tyler Mall', '9:00 PM', 'A', 'Mekhi Phifer'),\n",
       " ('High School High', 'United Artists Riverside (Galleria) Tyler Mall', '9:00 PM', 'A', 'Tia Carrera'),\n",
       " ('High School High', 'United Artists Riverside (Galleria) Tyler Mall', '9:00 PM', 'A', 'and Louise Fletcher'),\n",
       " ('High School High', 'United Artists Riverside (Galleria) Tyler Mall', '9:00 PM', 'D', 'Hart Bochner')]"
      ]
     },
     "execution_count": 152,
     "metadata": {},
     "output_type": "execute_result"
    }
   ],
   "source": [
    "%%sql\n",
    "SELECT MTitle, TName, Showtime, CCode, CName\n",
    "FROM DATASET\n",
    "GROUP BY MTitle, TName, Showtime, CCode, CName\n",
    "HAVING COUNT (*) > 1;"
   ]
  },
  {
   "cell_type": "markdown",
   "metadata": {},
   "source": [
    "5. **Drop the `DATASET` table.**  \n",
    "We don't need it anymore. "
   ]
  },
  {
   "cell_type": "code",
   "execution_count": null,
   "metadata": {},
   "outputs": [],
   "source": []
  },
  {
   "cell_type": "markdown",
   "metadata": {},
   "source": [
    "6. **Save, commit, and push your work to GitHub.**  \n",
    "Use the commit summary comment \"Completed Part 3\"."
   ]
  },
  {
   "cell_type": "code",
   "execution_count": null,
   "metadata": {},
   "outputs": [],
   "source": []
  }
 ],
 "metadata": {
  "kernelspec": {
   "display_name": "Python 3",
   "language": "python",
   "name": "python3"
  },
  "language_info": {
   "codemirror_mode": {
    "name": "ipython",
    "version": 3
   },
   "file_extension": ".py",
   "mimetype": "text/x-python",
   "name": "python",
   "nbconvert_exporter": "python",
   "pygments_lexer": "ipython3",
   "version": "3.6.5"
  }
 },
 "nbformat": 4,
 "nbformat_minor": 2
}
